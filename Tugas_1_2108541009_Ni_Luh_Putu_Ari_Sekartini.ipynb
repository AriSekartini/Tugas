{
 "cells": [
  {
   "cell_type": "markdown",
   "id": "e4beb010",
   "metadata": {},
   "source": [
    "# 5.1 Print\n",
    "Perintah ini akan mencetak tulisan yang ada di dalam tanda print(\" \") atau print(' ')"
   ]
  },
  {
   "cell_type": "code",
   "execution_count": 1,
   "id": "07e43c30",
   "metadata": {},
   "outputs": [
    {
     "name": "stdout",
     "output_type": "stream",
     "text": [
      "Ini Kelas Algoritma!\n"
     ]
    }
   ],
   "source": [
    "print('Ini Kelas Algoritma!')"
   ]
  },
  {
   "cell_type": "code",
   "execution_count": 2,
   "id": "77d87c74",
   "metadata": {},
   "outputs": [
    {
     "name": "stdout",
     "output_type": "stream",
     "text": [
      "Ini Kelas Algoritma\n"
     ]
    }
   ],
   "source": [
    "print(\"Ini Kelas Algoritma\")"
   ]
  },
  {
   "cell_type": "code",
   "execution_count": 3,
   "id": "9098febe",
   "metadata": {},
   "outputs": [
    {
     "name": "stdout",
     "output_type": "stream",
     "text": [
      "I don't understant what are you saying\n"
     ]
    }
   ],
   "source": [
    "print(\"I don't understant what are you saying\")"
   ]
  },
  {
   "cell_type": "code",
   "execution_count": null,
   "id": "8d68c03e",
   "metadata": {},
   "outputs": [],
   "source": [
    "print('I don't understant what are you saying')"
   ]
  },
  {
   "cell_type": "code",
   "execution_count": 5,
   "id": "38849a72",
   "metadata": {},
   "outputs": [
    {
     "name": "stdout",
     "output_type": "stream",
     "text": [
      "He is such a \"GENIUS\"\n"
     ]
    }
   ],
   "source": [
    "print('He is such a \"GENIUS\"')"
   ]
  },
  {
   "cell_type": "code",
   "execution_count": null,
   "id": "f977a709",
   "metadata": {},
   "outputs": [],
   "source": [
    "print(\"He is such a \"GENIUS\"\")"
   ]
  },
  {
   "cell_type": "code",
   "execution_count": 6,
   "id": "685b6e76",
   "metadata": {},
   "outputs": [
    {
     "name": "stdout",
     "output_type": "stream",
     "text": [
      "42\n",
      "100000\n",
      "4200000\n"
     ]
    }
   ],
   "source": [
    "mahasiswa = 42\n",
    "uang_di_dompet = 100000\n",
    "print(mahasiswa)\n",
    "print(uang_di_dompet)\n",
    "print(mahasiswa*uang_di_dompet)"
   ]
  },
  {
   "cell_type": "code",
   "execution_count": 7,
   "id": "ee17886e",
   "metadata": {},
   "outputs": [
    {
     "name": "stdout",
     "output_type": "stream",
     "text": [
      "Angga Saputra\n"
     ]
    }
   ],
   "source": [
    "nama_depan = 'Angga'\n",
    "nama_tengah = ' '\n",
    "nama_belakang = \"Saputra\"\n",
    "print(nama_depan + nama_tengah + nama_belakang)"
   ]
  },
  {
   "cell_type": "code",
   "execution_count": 8,
   "id": "ce86a618",
   "metadata": {},
   "outputs": [
    {
     "name": "stdout",
     "output_type": "stream",
     "text": [
      "arisekartini\n"
     ]
    }
   ],
   "source": [
    "nama_depan ='ari'\n",
    "nama_tengah ='sekar'\n",
    "nama_belakang = 'tini'\n",
    "print(nama_depan + nama_tengah + nama_belakang)"
   ]
  },
  {
   "cell_type": "code",
   "execution_count": 9,
   "id": "f70797b3",
   "metadata": {},
   "outputs": [
    {
     "name": "stdout",
     "output_type": "stream",
     "text": [
      "009 Ari sekartini\n"
     ]
    }
   ],
   "source": [
    "nama_depan ='009 '\n",
    "nama_tengah ='Ari sekar'\n",
    "nama_belakang = 'tini'\n",
    "print(nama_depan + nama_tengah + nama_belakang)"
   ]
  },
  {
   "cell_type": "code",
   "execution_count": 10,
   "id": "0cfbfe13",
   "metadata": {},
   "outputs": [
    {
     "name": "stdout",
     "output_type": "stream",
     "text": [
      "2021\n",
      "2108541009\n"
     ]
    }
   ],
   "source": [
    "mahasiswa = 2021\n",
    "dengan_nim = 2108541009\n",
    "print(mahasiswa)\n",
    "print(dengan_nim)"
   ]
  },
  {
   "cell_type": "code",
   "execution_count": 11,
   "id": "bde4cc25",
   "metadata": {},
   "outputs": [
    {
     "name": "stdout",
     "output_type": "stream",
     "text": [
      "Ari Sekartini Matematika 2108541009 Matematika A.\n"
     ]
    }
   ],
   "source": [
    "nama = 'Ari Sekartini '\n",
    "program_studi = 'Matematika '\n",
    "dengan_nim = '2108541009'\n",
    "kelas = ' Matematika A.'\n",
    "print(nama + program_studi + dengan_nim + kelas)"
   ]
  },
  {
   "cell_type": "code",
   "execution_count": 12,
   "id": "572eb2df",
   "metadata": {},
   "outputs": [
    {
     "name": "stdout",
     "output_type": "stream",
     "text": [
      "Ari Sekartini  Matematika A.2108541009\n"
     ]
    }
   ],
   "source": [
    "print(nama + kelas + dengan_nim)"
   ]
  },
  {
   "cell_type": "code",
   "execution_count": 13,
   "id": "0fd7a463",
   "metadata": {},
   "outputs": [
    {
     "name": "stdout",
     "output_type": "stream",
     "text": [
      "berapa nim nya? 2108541009\n"
     ]
    }
   ],
   "source": [
    "print(\"berapa nim nya? \"+ dengan_nim)"
   ]
  },
  {
   "cell_type": "code",
   "execution_count": 14,
   "id": "458cab76",
   "metadata": {},
   "outputs": [
    {
     "name": "stdout",
     "output_type": "stream",
     "text": [
      "Nama nya siapa? Ari Sekartini \n",
      "Fakultas MIPA, program studi Matematika \n",
      "Nim berapa? 2108541009\n",
      "Kelas apa?  Matematika A.\n"
     ]
    }
   ],
   "source": [
    "print(\"Nama nya siapa? \"+ nama)\n",
    "print(\"Fakultas MIPA, program studi \"+ program_studi)\n",
    "print(\"Nim berapa? \"+ dengan_nim)\n",
    "print(\"Kelas apa? \"+ kelas)"
   ]
  },
  {
   "cell_type": "code",
   "execution_count": 15,
   "id": "2499e9d6",
   "metadata": {},
   "outputs": [
    {
     "name": "stdout",
     "output_type": "stream",
     "text": [
      "Ari Sekartini 2108541009 Matematika A.\n"
     ]
    }
   ],
   "source": [
    "print(nama + dengan_nim + kelas)"
   ]
  },
  {
   "cell_type": "code",
   "execution_count": null,
   "id": "06f5bca9",
   "metadata": {},
   "outputs": [],
   "source": []
  },
  {
   "cell_type": "markdown",
   "id": "1c652aa9",
   "metadata": {},
   "source": [
    "# 5.2 Input\n",
    "Perintah input digunakan jika kita ingin mendapatkan informasi dari pengguna"
   ]
  },
  {
   "cell_type": "code",
   "execution_count": 16,
   "id": "0ff84090",
   "metadata": {},
   "outputs": [
    {
     "name": "stdout",
     "output_type": "stream",
     "text": [
      "Siapakah nama anda? Ari\n",
      "Apakah kegiatan anda sekarang,  Ari? Belajar\n",
      "Semangat Belajar nya yah,  Ari!\n"
     ]
    }
   ],
   "source": [
    "nama = input(\"Siapakah nama anda?\")\n",
    "kegiatan = input('Apakah kegiatan anda sekarang, ' + nama +\"? \")\n",
    "print(\"Semangat \"+ kegiatan +\" nya yah, \" + nama + \"!\")"
   ]
  },
  {
   "cell_type": "code",
   "execution_count": 17,
   "id": "9ce61a65",
   "metadata": {},
   "outputs": [
    {
     "name": "stdout",
     "output_type": "stream",
     "text": [
      "Siapakah nama anda? Ari Sekar\n",
      "Apa status anda sekarang, Ari Sekar? Mahasiswa\n",
      "Mahasiswa dimana Ari Sekar? Universitas Udayana\n",
      "Ari SekarMahasiswaUniversitas Udayana\n"
     ]
    }
   ],
   "source": [
    "nama = input(\"Siapakah nama anda? \")\n",
    "status = input(\"Apa status anda sekarang, \" + nama +\"? \" )\n",
    "mahasiswa = input(\"Mahasiswa dimana \" + nama + \"? \")\n",
    "print(nama + status + mahasiswa)"
   ]
  },
  {
   "cell_type": "code",
   "execution_count": 18,
   "id": "db1da41c",
   "metadata": {},
   "outputs": [
    {
     "name": "stdout",
     "output_type": "stream",
     "text": [
      "Siapakah nama anda? Ari Sekar\n",
      "Apa status anda sekarang, Ari Sekar? Mahasiswa\n",
      "Mahasiswa dimana Ari Sekar? Universitas Udayana\n",
      "Ari Sekar merupakan Mahasiswa di Universitas Udayana. \n"
     ]
    }
   ],
   "source": [
    "nama = input(\"Siapakah nama anda? \")\n",
    "status = input(\"Apa status anda sekarang, \" + nama +\"? \" )\n",
    "mahasiswa = input(\"Mahasiswa dimana \" + nama + \"? \")\n",
    "print(nama +\" merupakan \" + status +\" di \" + mahasiswa + \". \")"
   ]
  },
  {
   "cell_type": "code",
   "execution_count": 19,
   "id": "52466966",
   "metadata": {},
   "outputs": [
    {
     "name": "stdout",
     "output_type": "stream",
     "text": [
      "Siapakah nama anda? Adi Sanjaya\n",
      "Apa status anda sekarang, Adi Sanjaya? Mahasiswa\n",
      "Mahasiswa dimana Adi Sanjaya? Universitas Warmadewa\n",
      "Adi Sanjaya merupakan Mahasiswa di Universitas Warmadewa. \n"
     ]
    }
   ],
   "source": [
    "nama = input(\"Siapakah nama anda? \")\n",
    "status = input(\"Apa status anda sekarang, \" + nama +\"? \" )\n",
    "mahasiswa = input(\"Mahasiswa dimana \" + nama + \"? \")\n",
    "print(nama +\" merupakan \" + status +\" di \" + mahasiswa + \". \")"
   ]
  },
  {
   "cell_type": "code",
   "execution_count": 22,
   "id": "55fe5f04",
   "metadata": {},
   "outputs": [
    {
     "name": "stdout",
     "output_type": "stream",
     "text": [
      "Siapakah nama anda? Ari Sekartini\n",
      "Berapa nim kamu, Ari Sekartini? 2108541009\n",
      "Ari Sekartini dengan nim 2108541009\n"
     ]
    }
   ],
   "source": [
    "nama = input(\"Siapakah nama anda? \")\n",
    "nim = input(\"Berapa nim kamu, \" + nama +\"? \" )\n",
    "print(nama +\" dengan nim \" + nim )"
   ]
  },
  {
   "cell_type": "code",
   "execution_count": 28,
   "id": "163d5b9d",
   "metadata": {},
   "outputs": [
    {
     "name": "stdout",
     "output_type": "stream",
     "text": [
      "Siapakah nama lengkap anda? Ni Luh Putu Ari Sekartini\n",
      "Siapa nama panggilan anda? Ari Sekar\n",
      "Berapa nim kamu? 2108541009\n",
      "Ni Luh Putu Ari SekartiniAri Sekar dengan nim 2108541009\n"
     ]
    }
   ],
   "source": [
    "nama_lengkap = input(\"Siapakah nama lengkap anda? \")\n",
    "nama = input(\"Siapa nama panggilan anda? \")\n",
    "nim = input(\"Berapa nim kamu? \")\n",
    "print(nama_lengkap + nama + \" dengan nim \" + nim )"
   ]
  },
  {
   "cell_type": "code",
   "execution_count": null,
   "id": "ccebaf7d",
   "metadata": {},
   "outputs": [],
   "source": []
  },
  {
   "cell_type": "markdown",
   "id": "11bae026",
   "metadata": {},
   "source": [
    "# 5.3 Tipe Data pada Python\n",
    "Terdapat tiga tipe data pada python"
   ]
  },
  {
   "cell_type": "code",
   "execution_count": 30,
   "id": "3a73cdc7",
   "metadata": {},
   "outputs": [
    {
     "name": "stdout",
     "output_type": "stream",
     "text": [
      "saya\n"
     ]
    }
   ],
   "source": [
    "a = \"saya\"\n",
    "print (a)"
   ]
  },
  {
   "cell_type": "code",
   "execution_count": 31,
   "id": "201dfb9d",
   "metadata": {},
   "outputs": [
    {
     "data": {
      "text/plain": [
       "str"
      ]
     },
     "execution_count": 31,
     "metadata": {},
     "output_type": "execute_result"
    }
   ],
   "source": [
    "type(a)"
   ]
  },
  {
   "cell_type": "code",
   "execution_count": 32,
   "id": "658df84b",
   "metadata": {},
   "outputs": [],
   "source": [
    "b = 5"
   ]
  },
  {
   "cell_type": "code",
   "execution_count": 33,
   "id": "78f29c7e",
   "metadata": {},
   "outputs": [
    {
     "data": {
      "text/plain": [
       "int"
      ]
     },
     "execution_count": 33,
     "metadata": {},
     "output_type": "execute_result"
    }
   ],
   "source": [
    "type(b)"
   ]
  },
  {
   "cell_type": "code",
   "execution_count": 34,
   "id": "1459a52a",
   "metadata": {},
   "outputs": [],
   "source": [
    "c = \"5\"\n",
    "e = float (c)"
   ]
  },
  {
   "cell_type": "code",
   "execution_count": 35,
   "id": "6c229634",
   "metadata": {},
   "outputs": [
    {
     "name": "stdout",
     "output_type": "stream",
     "text": [
      "25\n"
     ]
    }
   ],
   "source": [
    "d = 5**2\n",
    "print(d)"
   ]
  },
  {
   "cell_type": "code",
   "execution_count": 36,
   "id": "0e07797e",
   "metadata": {},
   "outputs": [
    {
     "name": "stdout",
     "output_type": "stream",
     "text": [
      "Masukkan bilangan pertama anda: 2.3\n",
      "Masukkan bilangan kedua anda: 5.5\n",
      "7.8\n"
     ]
    }
   ],
   "source": [
    "bilangan_satu = input (\"Masukkan bilangan pertama anda: \")\n",
    "bilangan_kedua = input (\"Masukkan bilangan kedua anda: \")\n",
    "\n",
    "jumlah_bilangan = float(bilangan_satu) + float(bilangan_kedua)\n",
    "\n",
    "print (jumlah_bilangan)"
   ]
  },
  {
   "cell_type": "code",
   "execution_count": 37,
   "id": "902e77f0",
   "metadata": {},
   "outputs": [
    {
     "name": "stdout",
     "output_type": "stream",
     "text": [
      "Berapakah jumlah uang di dompe anda? 50000\n",
      "Berapakah jumlah uang anda di Bank? 1000000\n",
      "Total uang anda adalah Rp 500001000000\n"
     ]
    }
   ],
   "source": [
    "uang_di_dompet = input(\"Berapakah jumlah uang di dompe anda? \")\n",
    "uang_di_bank = input(\"Berapakah jumlah uang anda di Bank? \")\n",
    "print(\"Total uang anda adalah Rp \" + uang_di_dompet + uang_di_bank)"
   ]
  },
  {
   "cell_type": "code",
   "execution_count": 38,
   "id": "c915cf29",
   "metadata": {},
   "outputs": [
    {
     "name": "stdout",
     "output_type": "stream",
     "text": [
      "Berapakah jumlah uang di dompe anda? 50000\n",
      "Berapakah jumlah uang anda di Bank? 1000000\n",
      "Total uang anda adalah Rp 1050000\n"
     ]
    }
   ],
   "source": [
    "uang_di_dompet = input(\"Berapakah jumlah uang di dompe anda? \")\n",
    "uang_di_bank = input(\"Berapakah jumlah uang anda di Bank? \")\n",
    "total_uang = int(uang_di_dompet) + int(uang_di_bank)\n",
    "print(\"Total uang anda adalah Rp \"+ str(total_uang))"
   ]
  },
  {
   "cell_type": "code",
   "execution_count": 39,
   "id": "dd64e720",
   "metadata": {},
   "outputs": [
    {
     "name": "stdout",
     "output_type": "stream",
     "text": [
      "Masukkan bilangan pertama anda: 5\n",
      "Masukkan bilangan kedua anda: 3\n",
      "Masukkan bilangan ketiga anda: 10\n",
      "18.0\n"
     ]
    }
   ],
   "source": [
    "bilangan_satu = input (\"Masukkan bilangan pertama anda: \")\n",
    "bilangan_kedua = input (\"Masukkan bilangan kedua anda: \")\n",
    "bilangan_ketiga = input (\"Masukkan bilangan ketiga anda: \")\n",
    "\n",
    "jumlah_bilangan = float(bilangan_satu) + float(bilangan_kedua) + float(bilangan_ketiga)\n",
    "\n",
    "print (jumlah_bilangan)"
   ]
  },
  {
   "cell_type": "code",
   "execution_count": 40,
   "id": "de15f8da",
   "metadata": {},
   "outputs": [
    {
     "name": "stdout",
     "output_type": "stream",
     "text": [
      "Tahun berapa sekarang? 2022\n",
      "Tahun berapa anda lahir? 2003\n",
      "Umur anda sekarang adalah 19\n"
     ]
    }
   ],
   "source": [
    "tahun_sekarang = input(\"Tahun berapa sekarang? \")\n",
    "tahun_lahir = input(\"Tahun berapa anda lahir? \")\n",
    "umur_sekarang = int(tahun_sekarang) - int(tahun_lahir)\n",
    "print(\"Umur anda sekarang adalah \"+ str(umur_sekarang))"
   ]
  },
  {
   "cell_type": "code",
   "execution_count": 41,
   "id": "d7491cce",
   "metadata": {},
   "outputs": [
    {
     "name": "stdout",
     "output_type": "stream",
     "text": [
      "Tahun berapa sekarang? 2022\n",
      "Tahun berapa anda lahir? 2001\n",
      "Umur anda sekarang adalah 21 dasar tua. \n"
     ]
    }
   ],
   "source": [
    "tahun_sekarang = input(\"Tahun berapa sekarang? \")\n",
    "tahun_lahir = input(\"Tahun berapa anda lahir? \")\n",
    "umur_sekarang = int(tahun_sekarang) - int(tahun_lahir)\n",
    "print(\"Umur anda sekarang adalah \"+ str(umur_sekarang) + \" dasar tua. \")"
   ]
  },
  {
   "cell_type": "code",
   "execution_count": 42,
   "id": "38c00e69",
   "metadata": {},
   "outputs": [
    {
     "name": "stdout",
     "output_type": "stream",
     "text": [
      "Siapa nama anda? Adi Sanjaya\n",
      "Tahun berapa sekarang? 2022\n",
      "Tahun berapa anda lahir? 2001\n",
      "Umur anda sekarang adalah 21 dasar tua. \n"
     ]
    }
   ],
   "source": [
    "nama = input(\"Siapa nama anda? \")\n",
    "tahun_sekarang = input(\"Tahun berapa sekarang? \")\n",
    "tahun_lahir = input(\"Tahun berapa anda lahir? \")\n",
    "umur_sekarang = int(tahun_sekarang) - int(tahun_lahir)\n",
    "print(\"Umur anda sekarang adalah \"+ str(umur_sekarang) + \" dasar tua. \")"
   ]
  },
  {
   "cell_type": "code",
   "execution_count": 43,
   "id": "89830a76",
   "metadata": {},
   "outputs": [
    {
     "name": "stdout",
     "output_type": "stream",
     "text": [
      "Umur Adi Sanjaya adalah 21 mendekati tua! \n"
     ]
    }
   ],
   "source": [
    "print(\"Umur \" + (nama) + \" adalah \" + str(umur_sekarang) + \" mendekati tua! \")"
   ]
  },
  {
   "cell_type": "code",
   "execution_count": 44,
   "id": "6e37fd50",
   "metadata": {},
   "outputs": [
    {
     "name": "stdout",
     "output_type": "stream",
     "text": [
      "Siapa nama anda? Ari Sekartini\n",
      "Tahun berapa kuliah? 2021\n",
      "Tahun berapa anda akan lulus? 2025\n",
      "Ari Sekartini akan lulus kuliah 4 tahun lagi, semangat! \n"
     ]
    }
   ],
   "source": [
    "nama = input(\"Siapa nama anda? \")\n",
    "awal_kuliah = input(\"Tahun berapa kuliah? \")\n",
    "tahun_lulus = input(\"Tahun berapa anda akan lulus? \")\n",
    "tahun_kuliah = int(tahun_lulus) - int(awal_kuliah)\n",
    "print((nama) + \" akan lulus kuliah \"+ str(tahun_kuliah) + \" tahun lagi, semangat! \")"
   ]
  },
  {
   "cell_type": "code",
   "execution_count": 45,
   "id": "2fb38b69",
   "metadata": {},
   "outputs": [
    {
     "name": "stdout",
     "output_type": "stream",
     "text": [
      "Ari Sekartini dengan nim 2108541009  akan lulus kuliah 4tahun lagi, Astungkara! \n"
     ]
    }
   ],
   "source": [
    "print((nama) + \" dengan nim 2108541009 \"+ \" akan lulus kuliah \"+ str(tahun_kuliah) + \"tahun lagi, Astungkara! \")"
   ]
  },
  {
   "cell_type": "code",
   "execution_count": null,
   "id": "5b3d5a9e",
   "metadata": {},
   "outputs": [],
   "source": []
  },
  {
   "cell_type": "markdown",
   "id": "7a5a78ea",
   "metadata": {},
   "source": [
    "# Latihan\n"
   ]
  },
  {
   "cell_type": "markdown",
   "id": "fff5628e",
   "metadata": {},
   "source": [
    "# Buat program penjumlahan dua bilangan dengan menggunakan perintah INPUT dan PRINT."
   ]
  },
  {
   "cell_type": "code",
   "execution_count": 46,
   "id": "02b98d7f",
   "metadata": {},
   "outputs": [
    {
     "name": "stdout",
     "output_type": "stream",
     "text": [
      "Masukkan bilangan pertama anda: 1\n",
      "Masukkan bilangan kedua anda: 2\n",
      "Jumlah kedua bilangan adalah 3.0\n"
     ]
    }
   ],
   "source": [
    "bilangan_satu = input (\"Masukkan bilangan pertama anda: \")\n",
    "bilangan_kedua = input (\"Masukkan bilangan kedua anda: \")\n",
    "\n",
    "jumlah = float(bilangan_satu) + float(bilangan_kedua)\n",
    "\n",
    "print(\"Jumlah kedua bilangan adalah \" + str (jumlah))"
   ]
  },
  {
   "cell_type": "code",
   "execution_count": 47,
   "id": "c5867228",
   "metadata": {},
   "outputs": [
    {
     "name": "stdout",
     "output_type": "stream",
     "text": [
      "Masukkan bilangan pertama anda: 100\n",
      "Masukkan bilangan kedua anda: 2\n",
      "Jumlah kedua bilangan adalah 102.0\n"
     ]
    }
   ],
   "source": [
    "bilangan_satu = input (\"Masukkan bilangan pertama anda: \")\n",
    "bilangan_kedua = input (\"Masukkan bilangan kedua anda: \")\n",
    "\n",
    "jumlah = float(bilangan_satu) + float(bilangan_kedua)\n",
    "\n",
    "print(\"Jumlah kedua bilangan adalah \" + str (jumlah))"
   ]
  },
  {
   "cell_type": "code",
   "execution_count": 48,
   "id": "efa43582",
   "metadata": {},
   "outputs": [
    {
     "name": "stdout",
     "output_type": "stream",
     "text": [
      "Masukkan bilangan pertama anda: 50\n",
      "Masukkan bilangan kedua anda: 50\n",
      "Jumlah kedua bilangan adalah 100.0\n"
     ]
    }
   ],
   "source": [
    "bilangan_satu = input (\"Masukkan bilangan pertama anda: \")\n",
    "bilangan_kedua = input (\"Masukkan bilangan kedua anda: \")\n",
    "\n",
    "jumlah = float(bilangan_satu) + float(bilangan_kedua)\n",
    "\n",
    "print(\"Jumlah kedua bilangan adalah \" + str (jumlah))"
   ]
  },
  {
   "cell_type": "code",
   "execution_count": 49,
   "id": "f6119157",
   "metadata": {},
   "outputs": [
    {
     "name": "stdout",
     "output_type": "stream",
     "text": [
      "Masukkan bilangan pertama anda: 5\n",
      "Masukkan bilangan kedua anda: 12\n",
      "Masukkan bilangan ketiga anda: 8\n",
      "25.0\n"
     ]
    }
   ],
   "source": [
    "bilangan_satu = input (\"Masukkan bilangan pertama anda: \")\n",
    "bilangan_kedua = input (\"Masukkan bilangan kedua anda: \")\n",
    "bilangan_ketiga = input (\"Masukkan bilangan ketiga anda: \")\n",
    "\n",
    "jumlah_bilangan = float(bilangan_satu) + float(bilangan_kedua) + float(bilangan_ketiga)\n",
    "\n",
    "print (jumlah_bilangan)"
   ]
  },
  {
   "cell_type": "code",
   "execution_count": 51,
   "id": "218c7b7f",
   "metadata": {},
   "outputs": [
    {
     "name": "stdout",
     "output_type": "stream",
     "text": [
      "Masukkan bilangan pertama anda: 9\n",
      "Masukkan bilangan kedua anda: 121\n",
      "Masukkan bilangan ketiga anda: 247\n",
      "Jumlah ketiga bilangan adalah 377.0\n"
     ]
    }
   ],
   "source": [
    "bilangan_satu = input (\"Masukkan bilangan pertama anda: \")\n",
    "bilangan_kedua = input (\"Masukkan bilangan kedua anda: \")\n",
    "bilangan_ketiga = input (\"Masukkan bilangan ketiga anda: \")\n",
    "\n",
    "jumlah_bilangan = float(bilangan_satu) + float(bilangan_kedua) + float(bilangan_ketiga)\n",
    "\n",
    "print (\"Jumlah ketiga bilangan adalah \" + str(jumlah_bilangan))"
   ]
  },
  {
   "cell_type": "code",
   "execution_count": null,
   "id": "73525623",
   "metadata": {},
   "outputs": [],
   "source": []
  },
  {
   "cell_type": "markdown",
   "id": "ba801647",
   "metadata": {},
   "source": [
    "# 5.4 Formatted String\n",
    "Formatted string digunakan untuk mempermudah penulisan nilai variabel yang ingin dicetak pada perintah print."
   ]
  },
  {
   "cell_type": "code",
   "execution_count": 52,
   "id": "8e48f6c3",
   "metadata": {},
   "outputs": [
    {
     "name": "stdout",
     "output_type": "stream",
     "text": [
      "Nama anda adalah Ari Sekar\n",
      "Pekerjaan anda adalah Mahasiswa\n",
      "Institusi anda adalah Universitas Udayana\n",
      "Nama saya adalah Ari Sekar. Saya bekerja sebagai Mahasiswa di Universitas Udayana.\n"
     ]
    }
   ],
   "source": [
    "nama = input(\"Nama anda adalah \")\n",
    "pekerjaan = input(\"Pekerjaan anda adalah \")\n",
    "institusi = input(\"Institusi anda adalah \")\n",
    "\n",
    "print(\"Nama saya adalah \" + nama +\". Saya bekerja sebagai \"+ pekerjaan +\" di \"+ institusi + \".\")"
   ]
  },
  {
   "cell_type": "code",
   "execution_count": 53,
   "id": "eb3fcfa9",
   "metadata": {},
   "outputs": [
    {
     "name": "stdout",
     "output_type": "stream",
     "text": [
      "Nama saya adalah Ari Sekar. Saya bekerja sebagai Mahasiswa di Universitas Udayana. \n"
     ]
    }
   ],
   "source": [
    "print(f\"Nama saya adalah {nama}. Saya bekerja sebagai {pekerjaan} di {institusi}. \")"
   ]
  },
  {
   "cell_type": "code",
   "execution_count": 54,
   "id": "254f4710",
   "metadata": {},
   "outputs": [
    {
     "name": "stdout",
     "output_type": "stream",
     "text": [
      "Vladimir adalah seorang guru di SD Pertiwi.\n"
     ]
    }
   ],
   "source": [
    "nama = \"Vladimir\"\n",
    "pekerjaan = 'guru'\n",
    "institusi = 'SD Pertiwi'\n",
    "print(nama + ' adalah seorang ' + pekerjaan + ' di ' + institusi +'.')"
   ]
  },
  {
   "cell_type": "code",
   "execution_count": 55,
   "id": "67c1f305",
   "metadata": {},
   "outputs": [
    {
     "name": "stdout",
     "output_type": "stream",
     "text": [
      "Vladimir adalah seorang guru di SD Pertiwi.\n"
     ]
    }
   ],
   "source": [
    "print(f'{nama} adalah seorang {pekerjaan} di {institusi}.') "
   ]
  },
  {
   "cell_type": "code",
   "execution_count": 56,
   "id": "383ccea0",
   "metadata": {},
   "outputs": [
    {
     "name": "stdout",
     "output_type": "stream",
     "text": [
      "Vladimir adalah seorang guru di SD Pertiwi.\n"
     ]
    }
   ],
   "source": [
    "print(f\"{nama} adalah seorang {pekerjaan} di {institusi}.\")"
   ]
  },
  {
   "cell_type": "code",
   "execution_count": 57,
   "id": "c7bac21a",
   "metadata": {},
   "outputs": [
    {
     "name": "stdout",
     "output_type": "stream",
     "text": [
      "Ari Sekar dengan nim 2108541009 dengan kelas Matematika A.\n"
     ]
    }
   ],
   "source": [
    "nama = \"Ari Sekar\"\n",
    "nim = '2108541009'\n",
    "kelas = 'Matematika A'\n",
    "print(nama + ' dengan nim ' + nim + ' dengan kelas ' + kelas +'.')"
   ]
  },
  {
   "cell_type": "code",
   "execution_count": 58,
   "id": "f24f0e44",
   "metadata": {},
   "outputs": [
    {
     "name": "stdout",
     "output_type": "stream",
     "text": [
      "Ari Sekar adalah seorang mahasiswa dengan nim 2108541009 dan berada di kelas Matematika A.\n"
     ]
    }
   ],
   "source": [
    "print(f'{nama} adalah seorang mahasiswa dengan nim {nim} dan berada di kelas {kelas}.')"
   ]
  },
  {
   "cell_type": "code",
   "execution_count": 59,
   "id": "fc997179",
   "metadata": {},
   "outputs": [],
   "source": [
    "nama = \"Ari Sekar\"\n",
    "lahir = '02 juli 2003'\n",
    "kuliah = 'Universitas Udayana'\n",
    "prodi = 'Matematika'"
   ]
  },
  {
   "cell_type": "code",
   "execution_count": 60,
   "id": "50e55405",
   "metadata": {},
   "outputs": [
    {
     "name": "stdout",
     "output_type": "stream",
     "text": [
      "Ari Sekar lahir di Denpasar, 02 juli 2003 sekarang sedang kuliah di Universitas Udayana dengan program studi Matematika.\n"
     ]
    }
   ],
   "source": [
    "print(f'{nama} lahir di Denpasar, {lahir} sekarang sedang kuliah di {kuliah} dengan program studi {prodi}.')"
   ]
  },
  {
   "cell_type": "code",
   "execution_count": 61,
   "id": "8611e01d",
   "metadata": {},
   "outputs": [],
   "source": [
    "nama = \"Ni Luh Putu Ari Sekartini\"\n",
    "nim = '2108541009'\n",
    "kelas = 'Matematika A'\n",
    "matkul = 'Algoritma dan Struktur Data'"
   ]
  },
  {
   "cell_type": "code",
   "execution_count": 62,
   "id": "4a10847d",
   "metadata": {},
   "outputs": [
    {
     "name": "stdout",
     "output_type": "stream",
     "text": [
      "saya Ni Luh Putu Ari Sekartini dengan nim 2108541009 dan kelas Matematika A izin mengumpulkan tugas Algoritma dan Struktur Data terimakasi.\n"
     ]
    }
   ],
   "source": [
    "print(f'saya {nama} dengan nim {nim} dan kelas {kelas} izin mengumpulkan tugas {matkul} terimakasi.')"
   ]
  },
  {
   "cell_type": "code",
   "execution_count": null,
   "id": "08cb65b0",
   "metadata": {},
   "outputs": [],
   "source": []
  },
  {
   "cell_type": "markdown",
   "id": "18ba552a",
   "metadata": {},
   "source": [
    "# 5.5 Strings Index\n",
    "Variabel berupa string dapat diurutkan dengan index yang dimulai dari 0. "
   ]
  },
  {
   "cell_type": "code",
   "execution_count": 63,
   "id": "2c2a6a42",
   "metadata": {},
   "outputs": [],
   "source": [
    "kelas = 'ini kelas algoritma'"
   ]
  },
  {
   "cell_type": "code",
   "execution_count": 64,
   "id": "32a213eb",
   "metadata": {},
   "outputs": [
    {
     "name": "stdout",
     "output_type": "stream",
     "text": [
      "ini\n"
     ]
    }
   ],
   "source": [
    "print(kelas [0:3])"
   ]
  },
  {
   "cell_type": "code",
   "execution_count": 65,
   "id": "cbecf415",
   "metadata": {},
   "outputs": [
    {
     "name": "stdout",
     "output_type": "stream",
     "text": [
      "ini kelas algoritm\n"
     ]
    }
   ],
   "source": [
    "print(kelas[0:-1])"
   ]
  },
  {
   "cell_type": "code",
   "execution_count": 3,
   "id": "c0ba4296",
   "metadata": {},
   "outputs": [],
   "source": [
    "kelas = 'ini kelas algoritma'"
   ]
  },
  {
   "cell_type": "code",
   "execution_count": 4,
   "id": "5f224487",
   "metadata": {},
   "outputs": [
    {
     "name": "stdout",
     "output_type": "stream",
     "text": [
      "elas algoritm\n"
     ]
    }
   ],
   "source": [
    "print(kelas[5:-1])"
   ]
  },
  {
   "cell_type": "code",
   "execution_count": 5,
   "id": "d5980341",
   "metadata": {},
   "outputs": [
    {
     "name": "stdout",
     "output_type": "stream",
     "text": [
      "ieslrm\n"
     ]
    }
   ],
   "source": [
    "print(kelas[2:-1:3])"
   ]
  },
  {
   "cell_type": "code",
   "execution_count": 6,
   "id": "948f8d40",
   "metadata": {},
   "outputs": [
    {
     "name": "stdout",
     "output_type": "stream",
     "text": [
      "ini kelas algori\n"
     ]
    }
   ],
   "source": [
    "print(kelas[:-3])"
   ]
  },
  {
   "cell_type": "code",
   "execution_count": 7,
   "id": "c1426d82",
   "metadata": {},
   "outputs": [
    {
     "name": "stdout",
     "output_type": "stream",
     "text": [
      "ni kelas algoritma\n"
     ]
    }
   ],
   "source": [
    "print(kelas[1:])"
   ]
  },
  {
   "cell_type": "code",
   "execution_count": 8,
   "id": "b645900b",
   "metadata": {},
   "outputs": [
    {
     "name": "stdout",
     "output_type": "stream",
     "text": [
      "ini kelas algoritma\n"
     ]
    }
   ],
   "source": [
    "print(kelas[:])"
   ]
  },
  {
   "cell_type": "code",
   "execution_count": 9,
   "id": "69eddff4",
   "metadata": {},
   "outputs": [],
   "source": [
    "universitas = 'udayana'"
   ]
  },
  {
   "cell_type": "code",
   "execution_count": 10,
   "id": "e25e4267",
   "metadata": {},
   "outputs": [
    {
     "name": "stdout",
     "output_type": "stream",
     "text": [
      "udayana\n"
     ]
    }
   ],
   "source": [
    "print(universitas[:])"
   ]
  },
  {
   "cell_type": "code",
   "execution_count": 11,
   "id": "c52479ff",
   "metadata": {},
   "outputs": [
    {
     "name": "stdout",
     "output_type": "stream",
     "text": [
      "ayan\n"
     ]
    }
   ],
   "source": [
    "print(universitas[2:-1])"
   ]
  },
  {
   "cell_type": "code",
   "execution_count": 12,
   "id": "ae081810",
   "metadata": {},
   "outputs": [
    {
     "name": "stdout",
     "output_type": "stream",
     "text": [
      "uda\n"
     ]
    }
   ],
   "source": [
    "print(universitas[:-4])"
   ]
  },
  {
   "cell_type": "code",
   "execution_count": 13,
   "id": "9e189ce1",
   "metadata": {},
   "outputs": [],
   "source": [
    "nama = 'Arisekar'"
   ]
  },
  {
   "cell_type": "code",
   "execution_count": 14,
   "id": "a7416bc0",
   "metadata": {},
   "outputs": [
    {
     "name": "stdout",
     "output_type": "stream",
     "text": [
      "risek\n"
     ]
    }
   ],
   "source": [
    "print(nama[1:-2])"
   ]
  },
  {
   "cell_type": "code",
   "execution_count": 15,
   "id": "55c90d2c",
   "metadata": {},
   "outputs": [
    {
     "name": "stdout",
     "output_type": "stream",
     "text": [
      "Arisekar\n"
     ]
    }
   ],
   "source": [
    "print(nama[:])"
   ]
  },
  {
   "cell_type": "code",
   "execution_count": 16,
   "id": "18bd72f6",
   "metadata": {},
   "outputs": [],
   "source": [
    "nama = 'Arisekar'\n",
    "nim = '2108541009'"
   ]
  },
  {
   "cell_type": "code",
   "execution_count": 17,
   "id": "210e13a8",
   "metadata": {},
   "outputs": [
    {
     "name": "stdout",
     "output_type": "stream",
     "text": [
      "Arisekar2108541009\n"
     ]
    }
   ],
   "source": [
    "print(nama + nim [:])"
   ]
  },
  {
   "cell_type": "code",
   "execution_count": 18,
   "id": "5a826963",
   "metadata": {},
   "outputs": [
    {
     "name": "stdout",
     "output_type": "stream",
     "text": [
      "risek2108541009\n"
     ]
    }
   ],
   "source": [
    "print(nama[1:-2] + nim)"
   ]
  },
  {
   "cell_type": "code",
   "execution_count": 20,
   "id": "e38093db",
   "metadata": {},
   "outputs": [
    {
     "name": "stdout",
     "output_type": "stream",
     "text": [
      "Arisekar 009\n"
     ]
    }
   ],
   "source": [
    "print((nama ) + \" \" + nim [7:])"
   ]
  },
  {
   "cell_type": "code",
   "execution_count": 22,
   "id": "664a7bdb",
   "metadata": {},
   "outputs": [
    {
     "name": "stdout",
     "output_type": "stream",
     "text": [
      " Ni Luh Putu Arisekar 2108541009\n"
     ]
    }
   ],
   "source": [
    "print(\" Ni Luh Putu \" + (nama) + \" \" + (nim))"
   ]
  },
  {
   "cell_type": "code",
   "execution_count": null,
   "id": "7dc0cfa5",
   "metadata": {},
   "outputs": [],
   "source": []
  },
  {
   "cell_type": "markdown",
   "id": "ad6d98ac",
   "metadata": {},
   "source": [
    "# 5.6 Strings Methods\n",
    "Ada beberapa methoda yang banyak digunakan pada variabel berjenis string."
   ]
  },
  {
   "cell_type": "code",
   "execution_count": 23,
   "id": "b085dcb6",
   "metadata": {},
   "outputs": [],
   "source": [
    "judul = 'Bali Surga Dunia'"
   ]
  },
  {
   "cell_type": "code",
   "execution_count": 24,
   "id": "e670fc2e",
   "metadata": {},
   "outputs": [
    {
     "name": "stdout",
     "output_type": "stream",
     "text": [
      "16\n"
     ]
    }
   ],
   "source": [
    "print(len(judul))"
   ]
  },
  {
   "cell_type": "code",
   "execution_count": 25,
   "id": "7239ea35",
   "metadata": {},
   "outputs": [
    {
     "data": {
      "text/plain": [
       "'BALI SURGA DUNIA'"
      ]
     },
     "execution_count": 25,
     "metadata": {},
     "output_type": "execute_result"
    }
   ],
   "source": [
    "judul.upper()"
   ]
  },
  {
   "cell_type": "code",
   "execution_count": 26,
   "id": "984a5f51",
   "metadata": {},
   "outputs": [
    {
     "data": {
      "text/plain": [
       "'bali surga dunia'"
      ]
     },
     "execution_count": 26,
     "metadata": {},
     "output_type": "execute_result"
    }
   ],
   "source": [
    "judul.lower()"
   ]
  },
  {
   "cell_type": "code",
   "execution_count": 27,
   "id": "f649c476",
   "metadata": {},
   "outputs": [
    {
     "data": {
      "text/plain": [
       "5"
      ]
     },
     "execution_count": 27,
     "metadata": {},
     "output_type": "execute_result"
    }
   ],
   "source": [
    "judul.find('Surga')"
   ]
  },
  {
   "cell_type": "code",
   "execution_count": 28,
   "id": "ed381a82",
   "metadata": {},
   "outputs": [
    {
     "data": {
      "text/plain": [
       "-1"
      ]
     },
     "execution_count": 28,
     "metadata": {},
     "output_type": "execute_result"
    }
   ],
   "source": [
    "judul.find('bali')"
   ]
  },
  {
   "cell_type": "code",
   "execution_count": 29,
   "id": "c381104e",
   "metadata": {},
   "outputs": [
    {
     "data": {
      "text/plain": [
       "'Indonesia Surga Dunia'"
      ]
     },
     "execution_count": 29,
     "metadata": {},
     "output_type": "execute_result"
    }
   ],
   "source": [
    "judul.replace('Bali','Indonesia')"
   ]
  },
  {
   "cell_type": "code",
   "execution_count": 30,
   "id": "8e863745",
   "metadata": {},
   "outputs": [
    {
     "data": {
      "text/plain": [
       "'Bali Surga Dunia'"
      ]
     },
     "execution_count": 30,
     "metadata": {},
     "output_type": "execute_result"
    }
   ],
   "source": [
    "judul.replace('bali','Indonesia')"
   ]
  },
  {
   "cell_type": "code",
   "execution_count": 31,
   "id": "203bc24a",
   "metadata": {},
   "outputs": [
    {
     "name": "stdout",
     "output_type": "stream",
     "text": [
      "True\n"
     ]
    }
   ],
   "source": [
    "print('Bali' in judul)"
   ]
  },
  {
   "cell_type": "code",
   "execution_count": 32,
   "id": "b80d873f",
   "metadata": {},
   "outputs": [
    {
     "name": "stdout",
     "output_type": "stream",
     "text": [
      "False\n"
     ]
    }
   ],
   "source": [
    "print('bali' in judul)"
   ]
  },
  {
   "cell_type": "code",
   "execution_count": 33,
   "id": "1d9c4099",
   "metadata": {},
   "outputs": [],
   "source": [
    "nama = 'Ari Sekartini'"
   ]
  },
  {
   "cell_type": "code",
   "execution_count": 35,
   "id": "8ec38a9a",
   "metadata": {},
   "outputs": [
    {
     "name": "stdout",
     "output_type": "stream",
     "text": [
      "13\n"
     ]
    }
   ],
   "source": [
    "print(len(nama))"
   ]
  },
  {
   "cell_type": "code",
   "execution_count": 36,
   "id": "2c5aa3e9",
   "metadata": {},
   "outputs": [
    {
     "data": {
      "text/plain": [
       "'ARI SEKARTINI'"
      ]
     },
     "execution_count": 36,
     "metadata": {},
     "output_type": "execute_result"
    }
   ],
   "source": [
    "nama.upper()"
   ]
  },
  {
   "cell_type": "code",
   "execution_count": 37,
   "id": "787314d4",
   "metadata": {},
   "outputs": [
    {
     "data": {
      "text/plain": [
       "'ari sekartini'"
      ]
     },
     "execution_count": 37,
     "metadata": {},
     "output_type": "execute_result"
    }
   ],
   "source": [
    "nama.lower()"
   ]
  },
  {
   "cell_type": "code",
   "execution_count": 38,
   "id": "f07a02bc",
   "metadata": {},
   "outputs": [
    {
     "name": "stdout",
     "output_type": "stream",
     "text": [
      "False\n"
     ]
    }
   ],
   "source": [
    "print('ari' in nama)"
   ]
  },
  {
   "cell_type": "code",
   "execution_count": 39,
   "id": "caedbcc6",
   "metadata": {},
   "outputs": [
    {
     "name": "stdout",
     "output_type": "stream",
     "text": [
      "True\n"
     ]
    }
   ],
   "source": [
    "print('Ari' in nama)"
   ]
  },
  {
   "cell_type": "code",
   "execution_count": 40,
   "id": "7822d6cd",
   "metadata": {},
   "outputs": [
    {
     "name": "stdout",
     "output_type": "stream",
     "text": [
      "True\n"
     ]
    }
   ],
   "source": [
    "print('Sekartini' in nama)"
   ]
  },
  {
   "cell_type": "code",
   "execution_count": 41,
   "id": "df8065e9",
   "metadata": {},
   "outputs": [],
   "source": [
    "nim = '2108541009'"
   ]
  },
  {
   "cell_type": "code",
   "execution_count": 42,
   "id": "c1a9dc5c",
   "metadata": {},
   "outputs": [
    {
     "name": "stdout",
     "output_type": "stream",
     "text": [
      "10\n"
     ]
    }
   ],
   "source": [
    "print(len(nim))"
   ]
  },
  {
   "cell_type": "code",
   "execution_count": 43,
   "id": "36baa81d",
   "metadata": {},
   "outputs": [
    {
     "data": {
      "text/plain": [
       "<function str.find>"
      ]
     },
     "execution_count": 43,
     "metadata": {},
     "output_type": "execute_result"
    }
   ],
   "source": [
    "nim.find"
   ]
  },
  {
   "cell_type": "code",
   "execution_count": null,
   "id": "925d8020",
   "metadata": {},
   "outputs": [],
   "source": []
  },
  {
   "cell_type": "markdown",
   "id": "27d86905",
   "metadata": {},
   "source": [
    "# 5.7 Operasi Matematika di Python\n",
    "Terdapat operasi matematika di Python."
   ]
  },
  {
   "cell_type": "code",
   "execution_count": 1,
   "id": "a6bb2fec",
   "metadata": {},
   "outputs": [
    {
     "name": "stdout",
     "output_type": "stream",
     "text": [
      "5\n",
      "-1\n",
      "6\n",
      "2.3333333333333335\n",
      "2\n",
      "1\n",
      "8\n",
      "4\n",
      "2\n",
      "6\n"
     ]
    }
   ],
   "source": [
    "print(2+3)\n",
    "print(2-3)\n",
    "print(2*3)\n",
    "print(7/3)\n",
    "print(7//3)\n",
    "print(7%3)\n",
    "print(2**3)\n",
    "x=3\n",
    "x+=1\n",
    "print(x)\n",
    "x-=2\n",
    "print(x)\n",
    "x*=3\n",
    "print(x)"
   ]
  },
  {
   "cell_type": "code",
   "execution_count": 2,
   "id": "ea6c3cd8",
   "metadata": {},
   "outputs": [
    {
     "name": "stdout",
     "output_type": "stream",
     "text": [
      "20\n"
     ]
    }
   ],
   "source": [
    "x = 20\n",
    "print(x)"
   ]
  },
  {
   "cell_type": "code",
   "execution_count": 3,
   "id": "bf2bed67",
   "metadata": {},
   "outputs": [
    {
     "name": "stdout",
     "output_type": "stream",
     "text": [
      "22\n"
     ]
    }
   ],
   "source": [
    "x = x + 2\n",
    "print(x)"
   ]
  },
  {
   "cell_type": "code",
   "execution_count": 4,
   "id": "34c3ee56",
   "metadata": {},
   "outputs": [
    {
     "name": "stdout",
     "output_type": "stream",
     "text": [
      "17\n"
     ]
    }
   ],
   "source": [
    "x = x - 5\n",
    "print(x)"
   ]
  },
  {
   "cell_type": "code",
   "execution_count": 5,
   "id": "cb306900",
   "metadata": {},
   "outputs": [
    {
     "name": "stdout",
     "output_type": "stream",
     "text": [
      "17\n"
     ]
    }
   ],
   "source": [
    "x = x*1\n",
    "print(x)"
   ]
  },
  {
   "cell_type": "code",
   "execution_count": 6,
   "id": "d0f9bc50",
   "metadata": {},
   "outputs": [
    {
     "name": "stdout",
     "output_type": "stream",
     "text": [
      "289\n"
     ]
    }
   ],
   "source": [
    "x = x**2\n",
    "print(x)"
   ]
  },
  {
   "cell_type": "code",
   "execution_count": 7,
   "id": "21404ceb",
   "metadata": {},
   "outputs": [
    {
     "name": "stdout",
     "output_type": "stream",
     "text": [
      "290\n"
     ]
    }
   ],
   "source": [
    "x += 1\n",
    "print(x)"
   ]
  },
  {
   "cell_type": "code",
   "execution_count": 8,
   "id": "4b0b47c6",
   "metadata": {},
   "outputs": [
    {
     "name": "stdout",
     "output_type": "stream",
     "text": [
      "0\n"
     ]
    }
   ],
   "source": [
    "x *=0\n",
    "print(x)"
   ]
  },
  {
   "cell_type": "code",
   "execution_count": 9,
   "id": "801e85f1",
   "metadata": {},
   "outputs": [
    {
     "name": "stdout",
     "output_type": "stream",
     "text": [
      "20\n"
     ]
    }
   ],
   "source": [
    "x +=20\n",
    "print(x)"
   ]
  },
  {
   "cell_type": "code",
   "execution_count": 10,
   "id": "3477a592",
   "metadata": {},
   "outputs": [
    {
     "name": "stdout",
     "output_type": "stream",
     "text": [
      "20\n"
     ]
    }
   ],
   "source": [
    "x %=100\n",
    "print(x)"
   ]
  },
  {
   "cell_type": "code",
   "execution_count": 11,
   "id": "50fff7ec",
   "metadata": {},
   "outputs": [
    {
     "name": "stdout",
     "output_type": "stream",
     "text": [
      "10\n"
     ]
    }
   ],
   "source": [
    "x //= 2\n",
    "print(x)"
   ]
  },
  {
   "cell_type": "code",
   "execution_count": 12,
   "id": "52e62246",
   "metadata": {},
   "outputs": [
    {
     "name": "stdout",
     "output_type": "stream",
     "text": [
      "2.0\n"
     ]
    }
   ],
   "source": [
    "x /=5\n",
    "print(x)"
   ]
  },
  {
   "cell_type": "code",
   "execution_count": 13,
   "id": "af0ae93e",
   "metadata": {},
   "outputs": [
    {
     "name": "stdout",
     "output_type": "stream",
     "text": [
      "2\n"
     ]
    }
   ],
   "source": [
    "y = 2\n",
    "print(y)"
   ]
  },
  {
   "cell_type": "code",
   "execution_count": 14,
   "id": "62af1f42",
   "metadata": {},
   "outputs": [
    {
     "name": "stdout",
     "output_type": "stream",
     "text": [
      "1\n"
     ]
    }
   ],
   "source": [
    "y = y - 1\n",
    "print(y)"
   ]
  },
  {
   "cell_type": "code",
   "execution_count": 15,
   "id": "cddbcfde",
   "metadata": {},
   "outputs": [
    {
     "name": "stdout",
     "output_type": "stream",
     "text": [
      "-4\n"
     ]
    }
   ],
   "source": [
    "y = y - 5\n",
    "print(y)"
   ]
  },
  {
   "cell_type": "code",
   "execution_count": 16,
   "id": "45104222",
   "metadata": {},
   "outputs": [
    {
     "name": "stdout",
     "output_type": "stream",
     "text": [
      "16\n"
     ]
    }
   ],
   "source": [
    "y = y*-4\n",
    "print(y)"
   ]
  },
  {
   "cell_type": "code",
   "execution_count": 17,
   "id": "99740e9d",
   "metadata": {},
   "outputs": [
    {
     "name": "stdout",
     "output_type": "stream",
     "text": [
      "256\n"
     ]
    }
   ],
   "source": [
    "y = y**2\n",
    "print(y)"
   ]
  },
  {
   "cell_type": "code",
   "execution_count": 18,
   "id": "75678219",
   "metadata": {},
   "outputs": [
    {
     "name": "stdout",
     "output_type": "stream",
     "text": [
      "128.0\n"
     ]
    }
   ],
   "source": [
    "y = y/2\n",
    "print(y)"
   ]
  },
  {
   "cell_type": "code",
   "execution_count": 19,
   "id": "586cd8ef",
   "metadata": {},
   "outputs": [
    {
     "name": "stdout",
     "output_type": "stream",
     "text": [
      "28.0\n"
     ]
    }
   ],
   "source": [
    "y = y%100\n",
    "print(y)"
   ]
  },
  {
   "cell_type": "code",
   "execution_count": 20,
   "id": "3c351091",
   "metadata": {},
   "outputs": [
    {
     "name": "stdout",
     "output_type": "stream",
     "text": [
      "14.0\n"
     ]
    }
   ],
   "source": [
    "y = y// 2\n",
    "print(y)"
   ]
  },
  {
   "cell_type": "code",
   "execution_count": 21,
   "id": "742d56b1",
   "metadata": {},
   "outputs": [
    {
     "name": "stdout",
     "output_type": "stream",
     "text": [
      "-210.0\n"
     ]
    }
   ],
   "source": [
    "y = y*-15\n",
    "print(y)"
   ]
  },
  {
   "cell_type": "code",
   "execution_count": 22,
   "id": "d0c42b2f",
   "metadata": {},
   "outputs": [
    {
     "name": "stdout",
     "output_type": "stream",
     "text": [
      "70.0\n"
     ]
    }
   ],
   "source": [
    "y = y / -3\n",
    "print(y)"
   ]
  },
  {
   "cell_type": "code",
   "execution_count": 23,
   "id": "a1bfe94d",
   "metadata": {},
   "outputs": [
    {
     "name": "stdout",
     "output_type": "stream",
     "text": [
      "0.0\n"
     ]
    }
   ],
   "source": [
    "y -= 70.0\n",
    "print(y)"
   ]
  },
  {
   "cell_type": "code",
   "execution_count": null,
   "id": "a743c8e4",
   "metadata": {},
   "outputs": [],
   "source": []
  },
  {
   "cell_type": "markdown",
   "id": "b29589e6",
   "metadata": {},
   "source": [
    "# 5.8 Operator Perbandingan di Python\n",
    "Beberapa operator perbandingan pada python."
   ]
  },
  {
   "cell_type": "code",
   "execution_count": 25,
   "id": "1819b1c2",
   "metadata": {},
   "outputs": [
    {
     "name": "stdout",
     "output_type": "stream",
     "text": [
      "True\n",
      "True\n",
      "True\n",
      "True\n",
      "True\n",
      "True\n"
     ]
    }
   ],
   "source": [
    "x = 3>2\n",
    "print(x)\n",
    "x = 2<3\n",
    "print(x)\n",
    "x = 3 >= 2\n",
    "print(x)\n",
    "x = 2 <= 3\n",
    "print(x)\n",
    "x = 3 == 3\n",
    "print(x)\n",
    "x = 3 != 4\n",
    "print(x)"
   ]
  },
  {
   "cell_type": "code",
   "execution_count": 26,
   "id": "851a82d7",
   "metadata": {},
   "outputs": [
    {
     "name": "stdout",
     "output_type": "stream",
     "text": [
      "False\n",
      "False\n",
      "False\n"
     ]
    }
   ],
   "source": [
    "y = 2>3\n",
    "print(y)\n",
    "y = 3<1\n",
    "print(y)\n",
    "y = 2 == 3\n",
    "print (y)"
   ]
  },
  {
   "cell_type": "code",
   "execution_count": 27,
   "id": "e4da1ae4",
   "metadata": {},
   "outputs": [
    {
     "name": "stdout",
     "output_type": "stream",
     "text": [
      "True\n"
     ]
    }
   ],
   "source": [
    "a = 10 > 5\n",
    "print(a)"
   ]
  },
  {
   "cell_type": "code",
   "execution_count": 28,
   "id": "7988d3c6",
   "metadata": {},
   "outputs": [
    {
     "name": "stdout",
     "output_type": "stream",
     "text": [
      "False\n"
     ]
    }
   ],
   "source": [
    "a = 10!=10\n",
    "print(a)"
   ]
  },
  {
   "cell_type": "code",
   "execution_count": 29,
   "id": "e7125b6f",
   "metadata": {},
   "outputs": [
    {
     "name": "stdout",
     "output_type": "stream",
     "text": [
      "True\n",
      "True\n",
      "True\n"
     ]
    }
   ],
   "source": [
    "a = 21 ==21\n",
    "print(a)\n",
    "a = 9 < 10\n",
    "print(a)\n",
    "ari = 10 > 8\n",
    "print(ari)"
   ]
  },
  {
   "cell_type": "code",
   "execution_count": 30,
   "id": "db6622ee",
   "metadata": {},
   "outputs": [
    {
     "name": "stdout",
     "output_type": "stream",
     "text": [
      "True\n"
     ]
    }
   ],
   "source": [
    "arisekar = 100 > 75\n",
    "print(arisekar)"
   ]
  },
  {
   "cell_type": "code",
   "execution_count": 31,
   "id": "b56b7c1c",
   "metadata": {},
   "outputs": [
    {
     "name": "stdout",
     "output_type": "stream",
     "text": [
      "True\n"
     ]
    }
   ],
   "source": [
    "arisekar = 2003 < 2022\n",
    "print(arisekar)"
   ]
  },
  {
   "cell_type": "code",
   "execution_count": 32,
   "id": "39ef700d",
   "metadata": {},
   "outputs": [
    {
     "name": "stdout",
     "output_type": "stream",
     "text": [
      "False\n"
     ]
    }
   ],
   "source": [
    "ari = 2003 > 2022\n",
    "print(ari)"
   ]
  },
  {
   "cell_type": "code",
   "execution_count": 33,
   "id": "ae7346a2",
   "metadata": {},
   "outputs": [
    {
     "name": "stdout",
     "output_type": "stream",
     "text": [
      "False\n"
     ]
    }
   ],
   "source": [
    "sekar = 2108541009 > 2108541010\n",
    "print(sekar)"
   ]
  },
  {
   "cell_type": "code",
   "execution_count": 34,
   "id": "c87bb261",
   "metadata": {},
   "outputs": [
    {
     "name": "stdout",
     "output_type": "stream",
     "text": [
      "True\n"
     ]
    }
   ],
   "source": [
    "sekar = 2108541009 < 2108541010\n",
    "print(sekar)"
   ]
  },
  {
   "cell_type": "code",
   "execution_count": 35,
   "id": "abcd79d0",
   "metadata": {},
   "outputs": [
    {
     "name": "stdout",
     "output_type": "stream",
     "text": [
      "True\n"
     ]
    }
   ],
   "source": [
    "arisekar = 2108541009 == 2108541009\n",
    "print(arisekar)"
   ]
  },
  {
   "cell_type": "code",
   "execution_count": 36,
   "id": "3ce26f93",
   "metadata": {},
   "outputs": [
    {
     "name": "stdout",
     "output_type": "stream",
     "text": [
      "False\n"
     ]
    }
   ],
   "source": [
    "arisekar = 1009 != 1009\n",
    "print(arisekar)"
   ]
  },
  {
   "cell_type": "code",
   "execution_count": null,
   "id": "64973e18",
   "metadata": {},
   "outputs": [],
   "source": []
  },
  {
   "cell_type": "markdown",
   "id": "c1168497",
   "metadata": {},
   "source": [
    "# 5.9 Operator Logika di Python\n",
    "Beberapa operator logika pada Python adalah and, or and not. Operator and akan bernilai True jika kedua nilainya adalah True, \n",
    "sedangkan operator or akan bernilai True jika salah satu nilainya adalah True. Operator not akan menghasilkan nilai berlawanan. "
   ]
  },
  {
   "cell_type": "code",
   "execution_count": 37,
   "id": "6867b591",
   "metadata": {},
   "outputs": [
    {
     "name": "stdout",
     "output_type": "stream",
     "text": [
      "True\n"
     ]
    }
   ],
   "source": [
    "buah_manggis = 10\n",
    "buah_mangga =15\n",
    "print(buah_manggis > 8 and buah_mangga < 20)"
   ]
  },
  {
   "cell_type": "code",
   "execution_count": 38,
   "id": "a0f2054a",
   "metadata": {},
   "outputs": [
    {
     "name": "stdout",
     "output_type": "stream",
     "text": [
      "True\n"
     ]
    }
   ],
   "source": [
    "print (buah_manggis < 8 or buah_mangga < 20)"
   ]
  },
  {
   "cell_type": "code",
   "execution_count": 39,
   "id": "af09072f",
   "metadata": {},
   "outputs": [
    {
     "name": "stdout",
     "output_type": "stream",
     "text": [
      "False\n"
     ]
    }
   ],
   "source": [
    "print(buah_manggis < 8 or buah_mangga > 20)"
   ]
  },
  {
   "cell_type": "code",
   "execution_count": 40,
   "id": "4a595b03",
   "metadata": {},
   "outputs": [
    {
     "name": "stdout",
     "output_type": "stream",
     "text": [
      "True\n"
     ]
    }
   ],
   "source": [
    "print(not (buah_manggis < 8 or buah_mangga > 20))"
   ]
  },
  {
   "cell_type": "code",
   "execution_count": 42,
   "id": "b898e0f9",
   "metadata": {},
   "outputs": [
    {
     "name": "stdout",
     "output_type": "stream",
     "text": [
      "False\n"
     ]
    }
   ],
   "source": [
    "ari = 18 \n",
    "adi = 20 \n",
    "print(ari < 10 and adi > 10)"
   ]
  },
  {
   "cell_type": "code",
   "execution_count": 43,
   "id": "265cd48c",
   "metadata": {},
   "outputs": [
    {
     "name": "stdout",
     "output_type": "stream",
     "text": [
      "True\n"
     ]
    }
   ],
   "source": [
    "print(ari > 10 and adi > 10)"
   ]
  },
  {
   "cell_type": "code",
   "execution_count": 44,
   "id": "16731262",
   "metadata": {},
   "outputs": [
    {
     "name": "stdout",
     "output_type": "stream",
     "text": [
      "False\n"
     ]
    }
   ],
   "source": [
    "print(ari < 15 or adi < 15)"
   ]
  },
  {
   "cell_type": "code",
   "execution_count": 45,
   "id": "8843055d",
   "metadata": {},
   "outputs": [
    {
     "name": "stdout",
     "output_type": "stream",
     "text": [
      "True\n"
     ]
    }
   ],
   "source": [
    "print(ari < 15 or adi > 15)"
   ]
  },
  {
   "cell_type": "code",
   "execution_count": 46,
   "id": "a387ab6a",
   "metadata": {},
   "outputs": [
    {
     "name": "stdout",
     "output_type": "stream",
     "text": [
      "False\n"
     ]
    }
   ],
   "source": [
    "print(not (ari > 17 or adi > 19))"
   ]
  },
  {
   "cell_type": "code",
   "execution_count": 47,
   "id": "8450db89",
   "metadata": {},
   "outputs": [
    {
     "name": "stdout",
     "output_type": "stream",
     "text": [
      "False\n"
     ]
    }
   ],
   "source": [
    "print(not (ari > 17 and adi > 19))"
   ]
  },
  {
   "cell_type": "code",
   "execution_count": 48,
   "id": "4be162b3",
   "metadata": {},
   "outputs": [],
   "source": [
    "ari = 2003\n",
    "adi = 2001"
   ]
  },
  {
   "cell_type": "code",
   "execution_count": 49,
   "id": "38265fa4",
   "metadata": {},
   "outputs": [
    {
     "name": "stdout",
     "output_type": "stream",
     "text": [
      "True\n"
     ]
    }
   ],
   "source": [
    "print(ari > adi)"
   ]
  },
  {
   "cell_type": "code",
   "execution_count": 50,
   "id": "fb7f932b",
   "metadata": {},
   "outputs": [
    {
     "name": "stdout",
     "output_type": "stream",
     "text": [
      "False\n"
     ]
    }
   ],
   "source": [
    "print(adi > ari and ari < adi)"
   ]
  },
  {
   "cell_type": "code",
   "execution_count": 51,
   "id": "c007e947",
   "metadata": {},
   "outputs": [
    {
     "name": "stdout",
     "output_type": "stream",
     "text": [
      "True\n"
     ]
    }
   ],
   "source": [
    "print(adi < ari or adi < 2011)"
   ]
  },
  {
   "cell_type": "code",
   "execution_count": 52,
   "id": "8bd565f2",
   "metadata": {},
   "outputs": [
    {
     "name": "stdout",
     "output_type": "stream",
     "text": [
      "True\n"
     ]
    }
   ],
   "source": [
    "print(not (adi > ari and ari != adi))"
   ]
  },
  {
   "cell_type": "code",
   "execution_count": 53,
   "id": "09ff0004",
   "metadata": {},
   "outputs": [
    {
     "name": "stdout",
     "output_type": "stream",
     "text": [
      "True\n"
     ]
    }
   ],
   "source": [
    "print(ari == adi or adi < ari)"
   ]
  },
  {
   "cell_type": "code",
   "execution_count": 54,
   "id": "7a9a8a4e",
   "metadata": {},
   "outputs": [
    {
     "name": "stdout",
     "output_type": "stream",
     "text": [
      "False\n"
     ]
    }
   ],
   "source": [
    "print(not(ari == adi or adi == 2001))"
   ]
  },
  {
   "cell_type": "code",
   "execution_count": 55,
   "id": "20aea08f",
   "metadata": {},
   "outputs": [
    {
     "name": "stdout",
     "output_type": "stream",
     "text": [
      "True\n"
     ]
    }
   ],
   "source": [
    "print(2001 < ari and 2003 == ari)"
   ]
  },
  {
   "cell_type": "code",
   "execution_count": 56,
   "id": "1cd9173a",
   "metadata": {},
   "outputs": [
    {
     "name": "stdout",
     "output_type": "stream",
     "text": [
      "False\n"
     ]
    }
   ],
   "source": [
    "print(not(2001 == adi or ari == 2003))"
   ]
  },
  {
   "cell_type": "code",
   "execution_count": 57,
   "id": "b2a0befa",
   "metadata": {},
   "outputs": [
    {
     "name": "stdout",
     "output_type": "stream",
     "text": [
      "True\n"
     ]
    }
   ],
   "source": [
    "print(not(2001 != ari and ari != ari))"
   ]
  },
  {
   "cell_type": "code",
   "execution_count": null,
   "id": "cfb119b1",
   "metadata": {},
   "outputs": [],
   "source": []
  },
  {
   "cell_type": "markdown",
   "id": "efb1fa26",
   "metadata": {},
   "source": [
    "# 5.10 Operator if di Python\n",
    "Operator if akan dijalankan apabila nilai variabel yang dijalankan adalah True."
   ]
  },
  {
   "cell_type": "code",
   "execution_count": 1,
   "id": "8f010416",
   "metadata": {},
   "outputs": [
    {
     "name": "stdout",
     "output_type": "stream",
     "text": [
      "Nilai anda adalah 90\n",
      "Anda mendapatkan nilai A\n",
      "Bagus sekali selamat\n"
     ]
    }
   ],
   "source": [
    "nilai = float(input(\"Nilai anda adalah \"))\n",
    "if nilai >= 80:\n",
    "    print(\"Anda mendapatkan nilai A\")\n",
    "    print(\"Bagus sekali selamat\")\n",
    "if nilai < 80 and nilai >= 70:\n",
    "    print(\"Anda mendapatkan nilai B\")\n",
    "    print(\"Tingkatkan prestasimu!\")\n",
    "if nilai >= 60 and nilai < 70:\n",
    "    print(\"Anda mendapatkan nilai C\")\n",
    "    print(\"Lain kali musti lebih baik\")\n",
    "if nilai >= 50 and nilai < 60:\n",
    "    print(\"Anda mendapatkan nilai D\")\n",
    "    print(\"Ulang lagi tahun depan\")\n",
    "if nilai < 50:\n",
    "    print(\"Anda mendapatkan nilai E\")\n",
    "    print(\"Sampai jumpa tahun depan\")"
   ]
  },
  {
   "cell_type": "code",
   "execution_count": 2,
   "id": "dff7abca",
   "metadata": {},
   "outputs": [
    {
     "name": "stdout",
     "output_type": "stream",
     "text": [
      "Nilai anda adalah 82\n",
      "Anda mendapatkan nilai A\n",
      "Bagus sekali selamat\n"
     ]
    }
   ],
   "source": [
    "nilai = float(input(\"Nilai anda adalah \"))\n",
    "if nilai >= 80:\n",
    "    print(\"Anda mendapatkan nilai A\")\n",
    "    print(\"Bagus sekali selamat\")\n",
    "if nilai < 80 and nilai >= 70:\n",
    "    print(\"Anda mendapatkan nilai B\")\n",
    "    print(\"Tingkatkan prestasimu!\")\n",
    "if nilai >= 60 and nilai < 70:\n",
    "    print(\"Anda mendapatkan nilai C\")\n",
    "    print(\"Lain kali musti lebih baik\")\n",
    "if nilai >= 50 and nilai < 60:\n",
    "    print(\"Anda mendapatkan nilai D\")\n",
    "    print(\"Ulang lagi tahun depan\")\n",
    "if nilai < 50:\n",
    "    print(\"Anda mendapatkan nilai E\")\n",
    "    print(\"Sampai jumpa tahun depan\")"
   ]
  },
  {
   "cell_type": "code",
   "execution_count": 3,
   "id": "840d7f41",
   "metadata": {},
   "outputs": [
    {
     "name": "stdout",
     "output_type": "stream",
     "text": [
      "Nilai anda adalah 65\n",
      "Anda mendapatkan nilai C\n",
      "Lain kali musti lebih baik\n"
     ]
    }
   ],
   "source": [
    "nilai = float(input(\"Nilai anda adalah \"))\n",
    "if nilai >= 90:\n",
    "    print(\"Anda mendapatkan nilai A\")\n",
    "    print(\"Bagus sekali selamat\")\n",
    "if nilai < 80 and nilai >= 70:\n",
    "    print(\"Anda mendapatkan nilai B\")\n",
    "    print(\"Tingkatkan prestasimu!\")\n",
    "if nilai >= 60 and nilai < 70:\n",
    "    print(\"Anda mendapatkan nilai C\")\n",
    "    print(\"Lain kali musti lebih baik\")\n",
    "if nilai >= 50 and nilai < 60:\n",
    "    print(\"Anda mendapatkan nilai D\")\n",
    "    print(\"Ulang lagi tahun depan\")\n",
    "if nilai < 50:\n",
    "    print(\"Anda mendapatkan nilai E\")\n",
    "    print(\"Sampai jumpa tahun depan\")"
   ]
  },
  {
   "cell_type": "code",
   "execution_count": 4,
   "id": "cabe2c29",
   "metadata": {},
   "outputs": [
    {
     "name": "stdout",
     "output_type": "stream",
     "text": [
      "Nilai anda adalah 78\n",
      "Anda mendapatkan nilai B\n",
      "Tingkatkan prestasimu!\n"
     ]
    }
   ],
   "source": [
    "nilai = float(input(\"Nilai anda adalah \"))\n",
    "if nilai >= 80:\n",
    "    print(\"Anda mendapatkan nilai A\")\n",
    "    print(\"Bagus sekali selamat\")\n",
    "if nilai < 80 and nilai >= 70:\n",
    "    print(\"Anda mendapatkan nilai B\")\n",
    "    print(\"Tingkatkan prestasimu!\")\n",
    "if nilai >= 60 and nilai < 70:\n",
    "    print(\"Anda mendapatkan nilai C\")\n",
    "    print(\"Lain kali musti lebih baik\")\n",
    "if nilai >= 50 and nilai < 60:\n",
    "    print(\"Anda mendapatkan nilai D\")\n",
    "    print(\"Ulang lagi tahun depan\")\n",
    "if nilai < 50:\n",
    "    print(\"Anda mendapatkan nilai E\")\n",
    "    print(\"Sampai jumpa tahun depan\")"
   ]
  },
  {
   "cell_type": "code",
   "execution_count": 5,
   "id": "ff7acd04",
   "metadata": {},
   "outputs": [
    {
     "name": "stdout",
     "output_type": "stream",
     "text": [
      "Nilai anda adalah 85\n",
      "Anda mendapatkan nilai A\n",
      "Bagus sekali selamat\n"
     ]
    }
   ],
   "source": [
    "nilai = float(input(\"Nilai anda adalah \"))\n",
    "if nilai >= 80:\n",
    "    print(\"Anda mendapatkan nilai A\")\n",
    "    print(\"Bagus sekali selamat\")\n",
    "if nilai < 80 and nilai >= 70:\n",
    "    print(\"Anda mendapatkan nilai B\")\n",
    "    print(\"Tingkatkan prestasimu!\")\n",
    "if nilai >= 60 and nilai < 70:\n",
    "    print(\"Anda mendapatkan nilai C\")\n",
    "    print(\"Lain kali musti lebih baik\")\n",
    "if nilai >= 50 and nilai < 60:\n",
    "    print(\"Anda mendapatkan nilai D\")\n",
    "    print(\"Ulang lagi tahun depan\")\n",
    "if nilai < 50:\n",
    "    print(\"Anda mendapatkan nilai E\")\n",
    "    print(\"Sampai jumpa tahun depan\")"
   ]
  },
  {
   "cell_type": "code",
   "execution_count": 6,
   "id": "845188e3",
   "metadata": {},
   "outputs": [
    {
     "name": "stdout",
     "output_type": "stream",
     "text": [
      "Nilai anda adalah50\n"
     ]
    }
   ],
   "source": [
    "nilai = float(input(\"Nilai anda adalah\"))\n",
    "if nilai >= 80:\n",
    "    print(\"Anda mendapatkan nilai A\")\n",
    "    print(\"Bagus sekali, selamat\")\n",
    "elif nilai >= 70:\n",
    "    print(\"Anda mendapatkan nilai B\")\n",
    "    print(\"Tingkatkan prestasimu!\")\n",
    "elif nilai >=60:\n",
    "    print(\"Anda mendapatkan nilai C\")\n",
    "    Print(\"Lain kali musti lebih baik\")"
   ]
  },
  {
   "cell_type": "code",
   "execution_count": 7,
   "id": "ed3896f5",
   "metadata": {},
   "outputs": [
    {
     "name": "stdout",
     "output_type": "stream",
     "text": [
      "Nilai anda adalah65\n",
      "Anda mendapatkan nilai A\n",
      "Bagus sekali, selamat\n"
     ]
    }
   ],
   "source": [
    "nilai = float(input(\"Nilai anda adalah\"))\n",
    "if nilai >= 60:\n",
    "    print(\"Anda mendapatkan nilai A\")\n",
    "    print(\"Bagus sekali, selamat\")"
   ]
  },
  {
   "cell_type": "code",
   "execution_count": 8,
   "id": "30b3cbdd",
   "metadata": {},
   "outputs": [
    {
     "name": "stdout",
     "output_type": "stream",
     "text": [
      "Nilai ari sekar adalah 100\n",
      "Anda mendapatkan nilai A\n",
      "Bagus sekali, selamat\n"
     ]
    }
   ],
   "source": [
    "nilai = float(input(\"Nilai ari sekar adalah \"))\n",
    "if nilai >= 80:\n",
    "    print(\"Anda mendapatkan nilai A\")\n",
    "    print(\"Bagus sekali, selamat\")\n",
    "elif nilai >= 70:\n",
    "    print(\"Anda mendapatkan nilai B\")\n",
    "    print(\"Tingkatkan prestasimu!\")\n",
    "elif nilai >=60:\n",
    "    print(\"Anda mendapatkan nilai C\")\n",
    "    Print(\"Lain kali musti lebih baik\")"
   ]
  },
  {
   "cell_type": "code",
   "execution_count": 9,
   "id": "5f066585",
   "metadata": {},
   "outputs": [
    {
     "name": "stdout",
     "output_type": "stream",
     "text": [
      "Nilai anda adalah 55\n"
     ]
    }
   ],
   "source": [
    "nilai = float(input(\"Nilai anda adalah \"))\n",
    "if nilai >= 95:\n",
    "    print(\"Anda mendapatkan nilai A\")\n",
    "    print(\"Bagus sekali, selamat\")\n",
    "if nilai < 80 and nilai >= 70:\n",
    "    print(\"Anda mendapatkan nilai B\")\n",
    "    print(\"Tingkatkan prestasimu!\")"
   ]
  },
  {
   "cell_type": "code",
   "execution_count": 10,
   "id": "76633148",
   "metadata": {},
   "outputs": [
    {
     "name": "stdout",
     "output_type": "stream",
     "text": [
      "Nilai ari sekar adalah 90\n",
      "Ari sekar mendapatkan nilai A\n",
      "Bagus sekali, selamat\n"
     ]
    }
   ],
   "source": [
    "nilai = float(input(\"Nilai ari sekar adalah \"))\n",
    "if nilai >= 80:\n",
    "    print(\"Ari sekar mendapatkan nilai A\")\n",
    "    print(\"Bagus sekali, selamat\")\n",
    "elif nilai >= 70:\n",
    "    print(\"Ari sekar mendapatkan nilai B\")\n",
    "    print(\"Tingkatkan prestasimu!\")\n",
    "elif nilai >=60:\n",
    "    print(\"Ari sekar mendapatkan nilai C\")\n",
    "    Print(\"Lain kali musti lebih baik\")"
   ]
  },
  {
   "cell_type": "code",
   "execution_count": 11,
   "id": "55c13828",
   "metadata": {},
   "outputs": [
    {
     "name": "stdout",
     "output_type": "stream",
     "text": [
      "Umur anda adalah 18\n",
      "Anda sudah remaja dan akan dewasa\n"
     ]
    }
   ],
   "source": [
    "nilai = float(input(\"Umur anda adalah \"))\n",
    "if nilai >= 25:\n",
    "    print(\"Anda sudah dewasa\")\n",
    "elif nilai >= 17:\n",
    "    print(\"Anda sudah remaja dan akan dewasa\")\n",
    "elif nilai >=5:\n",
    "    print(\"Anda masih anak anak\")"
   ]
  },
  {
   "cell_type": "code",
   "execution_count": 12,
   "id": "7b9210dc",
   "metadata": {},
   "outputs": [
    {
     "name": "stdout",
     "output_type": "stream",
     "text": [
      "Umur anda adalah 21\n",
      "Anda sudah remaja dan akan dewasa\n"
     ]
    }
   ],
   "source": [
    "nilai = float(input(\"Umur anda adalah \"))\n",
    "if nilai >= 25:\n",
    "    print(\"Anda sudah dewasa\")\n",
    "elif nilai >= 17:\n",
    "    print(\"Anda sudah remaja dan akan dewasa\")\n",
    "elif nilai >=5:\n",
    "    print(\"Anda masih anak anak\")"
   ]
  },
  {
   "cell_type": "code",
   "execution_count": 13,
   "id": "c40ec181",
   "metadata": {},
   "outputs": [
    {
     "name": "stdout",
     "output_type": "stream",
     "text": [
      "Umur anda adalah 19\n",
      "Anda sudah dewasa\n"
     ]
    }
   ],
   "source": [
    "ilai = float(input(\"Umur anda adalah \"))\n",
    "if nilai >= 21:\n",
    "    print(\"Anda sudah dewasa\")\n",
    "elif nilai >= 17:\n",
    "    print(\"Anda sudah remaja dan akan dewasa\")\n",
    "elif nilai >=5:\n",
    "    print(\"Anda masih anak anak\")"
   ]
  },
  {
   "cell_type": "code",
   "execution_count": 14,
   "id": "c5cb3e2e",
   "metadata": {},
   "outputs": [
    {
     "name": "stdout",
     "output_type": "stream",
     "text": [
      "Umur anda adalah 12\n",
      "Anda masih anak anak\n",
      "Belajar yang rajin ya\n"
     ]
    }
   ],
   "source": [
    "nilai = float(input(\"Umur anda adalah \"))\n",
    "if nilai >= 25:\n",
    "    print(\"Anda sudah tua\")\n",
    "    print(\"Silahkan segera menikah\")\n",
    "elif nilai >= 21:\n",
    "    print(\"Anda sudah dewasa\")\n",
    "    print(\"Awas bentar lagi tua wkwkwkkw\")\n",
    "elif nilai >= 17:\n",
    "    print(\"Anda sudah remaja dan akan dewasa\")\n",
    "    print(\"Belajar dulu jangan pacaran\")\n",
    "elif nilai >=5:\n",
    "    print(\"Anda masih anak anak\")\n",
    "    print(\"Belajar yang rajin ya\")"
   ]
  },
  {
   "cell_type": "code",
   "execution_count": 15,
   "id": "535178f4",
   "metadata": {},
   "outputs": [
    {
     "name": "stdout",
     "output_type": "stream",
     "text": [
      "Umur anda adalah 21\n",
      "Anda sudah dewasa\n",
      "Awas bentar lagi tua wkwkwkkw\n",
      "Anda sudah remaja dan akan dewasa\n",
      "Belajar dulu jangan pacaran\n"
     ]
    }
   ],
   "source": [
    "nilai = float(input(\"Umur anda adalah \"))\n",
    "if nilai >= 25:\n",
    "    print(\"Anda sudah tua\")\n",
    "    print(\"Silahkan segera menikah\")\n",
    "if nilai >= 21:\n",
    "    print(\"Anda sudah dewasa\")\n",
    "    print(\"Awas bentar lagi tua wkwkwkkw\")\n",
    "if nilai >= 17:\n",
    "    print(\"Anda sudah remaja dan akan dewasa\")\n",
    "    print(\"Belajar dulu jangan pacaran\")\n",
    "if nilai <=5:\n",
    "    print(\"Anda masih anak anak\")\n",
    "    print(\"Belajar yang rajin ya\")"
   ]
  },
  {
   "cell_type": "code",
   "execution_count": 16,
   "id": "e5356730",
   "metadata": {},
   "outputs": [
    {
     "name": "stdout",
     "output_type": "stream",
     "text": [
      "Umur adi sanjaya adalah 21\n",
      "Adi sanjaya sudah dewasa\n",
      "Awas bentar lagi tua wkwkwkkw\n"
     ]
    }
   ],
   "source": [
    "nilai = float(input(\"Umur adi sanjaya adalah \"))\n",
    "if nilai >= 25:\n",
    "    print(\"Adi sanja sudah tua\")\n",
    "    print(\"Silahkan segera menikah\")\n",
    "elif nilai >= 21:\n",
    "    print(\"Adi sanjaya sudah dewasa\")\n",
    "    print(\"Awas bentar lagi tua wkwkwkkw\")\n",
    "elif nilai >= 17:\n",
    "    print(\"Adi sanjaya sudah remaja dan akan dewasa\")\n",
    "    print(\"Belajar dulu jangan pacaran\")\n",
    "elif nilai <=5:\n",
    "    print(\"Adi sanjaya masih anak anak\")\n",
    "    print(\"Belajar yang rajin ya\")"
   ]
  },
  {
   "cell_type": "code",
   "execution_count": 17,
   "id": "9034a21c",
   "metadata": {},
   "outputs": [
    {
     "name": "stdout",
     "output_type": "stream",
     "text": [
      "Umur ari sekar adalah 18\n",
      "Ari sekar sudah remaja dan akan dewasa\n",
      "Belajar dulu jangan pacaran\n"
     ]
    }
   ],
   "source": [
    "nilai = float(input(\"Umur ari sekar adalah \"))\n",
    "if nilai >= 25:\n",
    "    print(\"Ari sekar sudah tua\")\n",
    "    print(\"Silahkan segera menikah\")\n",
    "if nilai >= 21:\n",
    "    print(\"Ari sekar sudah dewasa\")\n",
    "    print(\"Awas bentar lagi tua wkwkwkkw\")\n",
    "if nilai >= 17:\n",
    "    print(\"Ari sekar sudah remaja dan akan dewasa\")\n",
    "    print(\"Belajar dulu jangan pacaran\")\n",
    "if nilai <=5:\n",
    "    print(\"Ari sekar masih anak anak\")\n",
    "    print(\"Belajar yang rajin ya\")"
   ]
  },
  {
   "cell_type": "code",
   "execution_count": null,
   "id": "09115521",
   "metadata": {},
   "outputs": [],
   "source": []
  },
  {
   "cell_type": "markdown",
   "id": "9d6a7e71",
   "metadata": {},
   "source": [
    "# Latihan\n",
    "# Buatlah program yang merubah tinggi badan seseorang dari cm ke inci atau sebaliknya dari inci ke cm."
   ]
  },
  {
   "cell_type": "code",
   "execution_count": 18,
   "id": "fddf4231",
   "metadata": {},
   "outputs": [
    {
     "name": "stdout",
     "output_type": "stream",
     "text": [
      "Berapkah tinggi anda? 180\n",
      "Tingginya dalam cm atau inci? cm\n",
      "Tinggi anda adalah 70.86618 inci\n"
     ]
    }
   ],
   "source": [
    "tinggi = float(input(\"Berapkah tinggi anda? \"))\n",
    "cm_atau_inci = input(\"Tingginya dalam cm atau inci? \")\n",
    "if cm_atau_inci.upper() == 'CM':\n",
    "    tinggi = tinggi*0.393701\n",
    "    print(\"Tinggi anda adalah \" + str(tinggi) + \" inci\")\n",
    "elif cm_atau_inci.upper() == 'INCI':\n",
    "    tinggi = tinggi/0.393701\n",
    "    print(f\"Tinggi anda adalah {tinggi} cm\")"
   ]
  },
  {
   "cell_type": "code",
   "execution_count": 19,
   "id": "d4365fd3",
   "metadata": {},
   "outputs": [
    {
     "name": "stdout",
     "output_type": "stream",
     "text": [
      "Berapkah tinggi ari sekar? 150\n",
      "Tingginya dalam cm atau inci? cm\n",
      "Tinggi ari sekar adalah 59.055150000000005 inci\n"
     ]
    }
   ],
   "source": [
    "tinggi = float(input(\"Berapkah tinggi ari sekar? \"))\n",
    "cm_atau_inci = input(\"Tingginya dalam cm atau inci? \")\n",
    "if cm_atau_inci.upper() == 'CM':\n",
    "    tinggi = tinggi*0.393701\n",
    "    print(\"Tinggi ari sekar adalah \" + str(tinggi) + \" inci\")\n",
    "elif cm_atau_inci.upper() == 'INCI':\n",
    "    tinggi = tinggi/0.393701\n",
    "    print(f\"Tinggi ari sekar adalah {tinggi} cm\")"
   ]
  },
  {
   "cell_type": "code",
   "execution_count": 20,
   "id": "8615ea4a",
   "metadata": {},
   "outputs": [
    {
     "name": "stdout",
     "output_type": "stream",
     "text": [
      "Berapkah tinggi ari sekar? 59.055150000000005\n",
      "Tingginya dalam cm atau inci? inci\n",
      "Tinggi ari sekar adalah 150.0 cm\n"
     ]
    }
   ],
   "source": [
    "tinggi = float(input(\"Berapkah tinggi ari sekar? \"))\n",
    "cm_atau_inci = input(\"Tingginya dalam cm atau inci? \")\n",
    "if cm_atau_inci.upper() == 'CM':\n",
    "    tinggi = tinggi*0.393701\n",
    "    print(\"Tinggi ari sekar adalah \" + str(tinggi) + \" inci\")\n",
    "elif cm_atau_inci.upper() == 'INCI':\n",
    "    tinggi = tinggi/0.393701\n",
    "    print(f\"Tinggi ari sekar adalah {tinggi} cm\")"
   ]
  },
  {
   "cell_type": "code",
   "execution_count": 21,
   "id": "21937a27",
   "metadata": {},
   "outputs": [
    {
     "name": "stdout",
     "output_type": "stream",
     "text": [
      "Berapkah tinggi adi sanjaya? 170\n",
      "Tingginya dalam cm atau inci? cm\n",
      "Tinggi adi sanjaya adalah 66.92917 inci\n"
     ]
    }
   ],
   "source": [
    "tinggi = float(input(\"Berapkah tinggi adi sanjaya? \"))\n",
    "cm_atau_inci = input(\"Tingginya dalam cm atau inci? \")\n",
    "if cm_atau_inci.upper() == 'CM':\n",
    "    tinggi = tinggi*0.393701\n",
    "    print(\"Tinggi adi sanjaya adalah \" + str(tinggi) + \" inci\")\n",
    "elif cm_atau_inci.upper() == 'INCI':\n",
    "    tinggi = tinggi/0.393701\n",
    "    print(f\"Tinggi adi sanjaya adalah {tinggi} cm\")"
   ]
  },
  {
   "cell_type": "code",
   "execution_count": 22,
   "id": "4aeab07b",
   "metadata": {},
   "outputs": [
    {
     "name": "stdout",
     "output_type": "stream",
     "text": [
      "Berapkah tinggi adi sanjaya? 66.92917 \n",
      "Tingginya dalam cm atau inci? cm\n",
      "Tinggi adi sanjaya adalah 26.350081158170003 inci\n"
     ]
    }
   ],
   "source": [
    "tinggi = float(input(\"Berapkah tinggi adi sanjaya? \"))\n",
    "cm_atau_inci = input(\"Tingginya dalam cm atau inci? \")\n",
    "if cm_atau_inci.upper() == 'CM':\n",
    "    tinggi = tinggi*0.393701\n",
    "    print(\"Tinggi adi sanjaya adalah \" + str(tinggi) + \" inci\")\n",
    "elif cm_atau_inci.upper() == 'INCI':\n",
    "    tinggi = tinggi/0.393701\n",
    "    print(f\"Tinggi adi sanjaya adalah {tinggi} cm\")"
   ]
  },
  {
   "cell_type": "code",
   "execution_count": null,
   "id": "793c5400",
   "metadata": {},
   "outputs": [],
   "source": []
  },
  {
   "cell_type": "markdown",
   "id": "cca4bf27",
   "metadata": {},
   "source": [
    "# 5.11 While loop\n",
    "While loop akan selalu dieksekusi selama nilainya True dan akan berhenti saat nilainya menjadi False. "
   ]
  },
  {
   "cell_type": "code",
   "execution_count": 23,
   "id": "d7956b8c",
   "metadata": {},
   "outputs": [
    {
     "name": "stdout",
     "output_type": "stream",
     "text": [
      "Angka 0 masih dibawah 5\n",
      "Angka 1 masih dibawah 5\n",
      "Angka 2 masih dibawah 5\n",
      "Angka 3 masih dibawah 5\n",
      "Angka 4 masih dibawah 5\n"
     ]
    }
   ],
   "source": [
    "a = 0 \n",
    "while a < 5:\n",
    "    print(\"Angka \" + str(a)+\" masih dibawah 5\")\n",
    "    a += 1"
   ]
  },
  {
   "cell_type": "code",
   "execution_count": 24,
   "id": "32750a72",
   "metadata": {},
   "outputs": [
    {
     "name": "stdout",
     "output_type": "stream",
     "text": [
      "\n",
      "*\n",
      "**\n",
      "***\n",
      "****\n"
     ]
    }
   ],
   "source": [
    "a = 0\n",
    "while a < 5:\n",
    "    print(a * '*')\n",
    "    a += 1"
   ]
  },
  {
   "cell_type": "code",
   "execution_count": 25,
   "id": "48f1d663",
   "metadata": {},
   "outputs": [
    {
     "name": "stdout",
     "output_type": "stream",
     "text": [
      "\n",
      "*\n",
      "**\n",
      "***\n",
      "****\n",
      "*****\n",
      "******\n",
      "*******\n",
      "********\n",
      "*********\n",
      "**********\n"
     ]
    }
   ],
   "source": [
    "a = 0\n",
    "while a <= 10:\n",
    "    print(a * '*')\n",
    "    a += 1"
   ]
  },
  {
   "cell_type": "code",
   "execution_count": 26,
   "id": "8cc2155f",
   "metadata": {},
   "outputs": [
    {
     "name": "stdout",
     "output_type": "stream",
     "text": [
      "0 aku  sayang kamu. \n",
      "1 aku  sayang kamu. \n",
      "2 aku  sayang kamu. \n",
      "3 aku  sayang kamu. \n",
      "4 aku  sayang kamu. \n",
      "5 aku  sayang kamu. \n"
     ]
    }
   ],
   "source": [
    "a = 0 \n",
    "while a <= 5:\n",
    "    print(str(a) + \" aku \" + \" sayang kamu. \")\n",
    "    a += 1"
   ]
  },
  {
   "cell_type": "code",
   "execution_count": 27,
   "id": "6ba3679e",
   "metadata": {},
   "outputs": [
    {
     "name": "stdout",
     "output_type": "stream",
     "text": [
      "1aku sayang kamu!\n",
      "2aku sayang kamu!\n",
      "3aku sayang kamu!\n",
      "4aku sayang kamu!\n",
      "5aku sayang kamu!\n",
      "6aku sayang kamu!\n",
      "7aku sayang kamu!\n",
      "8aku sayang kamu!\n",
      "9aku sayang kamu!\n",
      "10aku sayang kamu!\n"
     ]
    }
   ],
   "source": [
    "a = 1 \n",
    "while a <= 10:\n",
    "    print(str(a) + \"aku\" +\" sayang kamu!\")\n",
    "    a += 1"
   ]
  },
  {
   "cell_type": "code",
   "execution_count": 28,
   "id": "0822521f",
   "metadata": {},
   "outputs": [
    {
     "name": "stdout",
     "output_type": "stream",
     "text": [
      "1Saya Ni Luh Putu Ari Sekartini  dengan nim 2108541009\n",
      "2Saya Ni Luh Putu Ari Sekartini  dengan nim 2108541009\n",
      "3Saya Ni Luh Putu Ari Sekartini  dengan nim 2108541009\n",
      "4Saya Ni Luh Putu Ari Sekartini  dengan nim 2108541009\n"
     ]
    }
   ],
   "source": [
    "a = 1 \n",
    "while a < 5:\n",
    "    print(str(a) + \"Saya Ni Luh Putu Ari Sekartini \" + \" dengan nim 2108541009\")\n",
    "    a += 1"
   ]
  },
  {
   "cell_type": "code",
   "execution_count": 29,
   "id": "4c0c11b5",
   "metadata": {},
   "outputs": [
    {
     "name": "stdout",
     "output_type": "stream",
     "text": [
      "Saya Ni Luh Putu Ari Sekartini  dengan nim 2108541009\n",
      "Saya Ni Luh Putu Ari Sekartini  dengan nim 2108541009\n",
      "Saya Ni Luh Putu Ari Sekartini  dengan nim 2108541009\n",
      "Saya Ni Luh Putu Ari Sekartini  dengan nim 2108541009\n"
     ]
    }
   ],
   "source": [
    "a = 1 \n",
    "while a < 5:\n",
    "    print( \"Saya Ni Luh Putu Ari Sekartini \" + \" dengan nim 2108541009\")\n",
    "    a += 1"
   ]
  },
  {
   "cell_type": "code",
   "execution_count": 30,
   "id": "77673415",
   "metadata": {},
   "outputs": [
    {
     "name": "stdout",
     "output_type": "stream",
     "text": [
      "\n",
      "^\n",
      "^^\n",
      "^^^\n",
      "^^^^\n",
      "^^^^^\n",
      "^^^^^^\n",
      "^^^^^^^\n",
      "^^^^^^^^\n",
      "^^^^^^^^^\n",
      "^^^^^^^^^^\n"
     ]
    }
   ],
   "source": [
    "a = 0\n",
    "while a <= 10:\n",
    "    print(a * '^')\n",
    "    a += 1"
   ]
  },
  {
   "cell_type": "code",
   "execution_count": 31,
   "id": "9e6258df",
   "metadata": {},
   "outputs": [
    {
     "name": "stdout",
     "output_type": "stream",
     "text": [
      "\n",
      ".\n",
      "..\n",
      "...\n",
      "....\n",
      ".....\n",
      "......\n",
      ".......\n",
      "........\n",
      ".........\n",
      "..........\n"
     ]
    }
   ],
   "source": [
    "a = 0\n",
    "while a <= 10:\n",
    "    print(a * '.')\n",
    "    a += 1"
   ]
  },
  {
   "cell_type": "code",
   "execution_count": 32,
   "id": "006cc9c6",
   "metadata": {},
   "outputs": [
    {
     "name": "stdout",
     "output_type": "stream",
     "text": [
      "\n",
      ".\n",
      "..\n",
      "...\n",
      "....\n",
      ".....\n"
     ]
    }
   ],
   "source": [
    "a = 0\n",
    "while a <= 5:\n",
    "    print(a * '.')\n",
    "    a += 1"
   ]
  },
  {
   "cell_type": "code",
   "execution_count": 33,
   "id": "9759d25c",
   "metadata": {},
   "outputs": [
    {
     "name": "stdout",
     "output_type": "stream",
     "text": [
      "1Saya Ni Luh Putu Ari Sekartini  dengan nim 2108541009\n",
      "2Saya Ni Luh Putu Ari Sekartini  dengan nim 2108541009\n",
      "3Saya Ni Luh Putu Ari Sekartini  dengan nim 2108541009\n",
      "4Saya Ni Luh Putu Ari Sekartini  dengan nim 2108541009\n"
     ]
    }
   ],
   "source": [
    "a = 1  \n",
    "while a < 5:\n",
    "    print(str (a) + \"Saya Ni Luh Putu Ari Sekartini \" + \" dengan nim 2108541009\")\n",
    "    a += 1"
   ]
  },
  {
   "cell_type": "code",
   "execution_count": null,
   "id": "775bf1d4",
   "metadata": {},
   "outputs": [],
   "source": []
  }
 ],
 "metadata": {
  "kernelspec": {
   "display_name": "Python 3 (ipykernel)",
   "language": "python",
   "name": "python3"
  },
  "language_info": {
   "codemirror_mode": {
    "name": "ipython",
    "version": 3
   },
   "file_extension": ".py",
   "mimetype": "text/x-python",
   "name": "python",
   "nbconvert_exporter": "python",
   "pygments_lexer": "ipython3",
   "version": "3.9.7"
  }
 },
 "nbformat": 4,
 "nbformat_minor": 5
}
